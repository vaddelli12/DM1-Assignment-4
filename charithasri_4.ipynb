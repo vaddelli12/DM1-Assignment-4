{
 "cells": [
  {
   "cell_type": "markdown",
   "id": "4d53020c-34a1-471c-9289-e87e52e97cb4",
   "metadata": {},
   "source": [
    "                                             DM Assignment 4"
   ]
  },
  {
   "cell_type": "code",
   "execution_count": 6,
   "id": "a2495ed4-cb9f-45c4-a836-fdf3b188ca7a",
   "metadata": {},
   "outputs": [],
   "source": [
    "import os\n",
    "\n",
    "directory = os.getcwd()\n",
    "images = r'cropped_images'\n",
    "\n",
    "import warnings\n",
    "warnings.filterwarnings(\"ignore\")"
   ]
  },
  {
   "cell_type": "code",
   "execution_count": 2,
   "id": "ab058f64-140a-42fe-8a34-f6a8d83673b6",
   "metadata": {},
   "outputs": [],
   "source": [
    "# as in assignment 2 added normalization\n",
    "\n",
    "img=[]\n",
    "hist=[]\n",
    "breed=[]\n",
    "\n",
    "class_labels = {'n02085936-Maltese_dog':0,'n02096294-Australian_terrier':1,'n02106550-Rottweiler':2,'n02092339-Weimaraner':3}\n",
    "\n",
    "for folder in os.listdir(images):\n",
    "    path = os.path.join(images, folder)\n",
    "    if os.path.isdir(path):\n",
    "        Images = os.listdir(path) \n",
    "        crop_images = [image for image in Images if image.lower().endswith(('.jpg'))]\n",
    "        for image in crop_images:\n",
    "            src_path = os.path.join(path, image)\n",
    "            img.append(src_path)\n",
    "            breed.append(class_labels[folder])\n",
    "\n",
    "import numpy as np\n",
    "from skimage import filters\n",
    "from skimage import data, exposure, img_as_float,color\n",
    "def angle(dx, dy):\n",
    " \"\"\"Calculate the angles between horizontal and vertical operators.\"\"\"\n",
    " return np.mod(np.arctan2(dy, dx), np.pi)\n",
    "\n",
    "from skimage import filters\n",
    "from skimage import io\n",
    "for image in img:\n",
    "    dog_img   = io.imread(image)\n",
    "    dog_img=color.rgb2gray(dog_img)\n",
    "    angle_sobel = angle(filters.sobel_h(dog_img),filters.sobel_v(dog_img))\n",
    "    Hist,_=exposure.histogram(angle_sobel, nbins=36)\n",
    "    hist.append(Hist/np.sum(Hist))\n",
    "\n",
    "\n",
    "hist=np.array(hist)\n",
    "breed=np.array(breed)\n",
    "\n",
    "\n",
    "#PCA\n",
    "from sklearn.decomposition import PCA\n",
    "pca = PCA(n_components=2)\n",
    "edgehist=pca.fit_transform(hist)\n"
   ]
  },
  {
   "cell_type": "code",
   "execution_count": 7,
   "id": "76d967e6-6477-4d30-9856-5aaba0e6bb7c",
   "metadata": {},
   "outputs": [],
   "source": [
    "from sklearn.cluster import KMeans,BisectingKMeans,SpectralClustering,AgglomerativeClustering,DBSCAN\n",
    "from sklearn.metrics import silhouette_score,fowlkes_mallows_score\n",
    "\n",
    "model_dict={\"Random\"  :KMeans(init=\"random\",n_clusters=4),\n",
    "        \"KMeans++\":KMeans(init=\"k-means++\",n_clusters=4),\n",
    "        \"BisectingKmeans\":BisectingKMeans(init=\"random\",n_clusters=4),\n",
    "        \"SpectralClustering\":SpectralClustering(n_clusters=4),\n",
    "         \"Agglomerate\":AgglomerativeClustering(n_clusters=4) }\n",
    "algorith=[]\n",
    "silhouette=[]\n",
    "fowlkesmallows=[]\n",
    "for method,model in model_dict.items():\n",
    "    if method == \"Agglomerate\":\n",
    "        for link in ['single','complete', 'average','ward']:\n",
    "            model=AgglomerativeClustering(n_clusters=4,linkage=link)\n",
    "            predict=model.fit_predict(edgehist)\n",
    "            algorith.append(link)\n",
    "            silhouette.append(silhouette_score(edgehist,predict))\n",
    "            fowlkesmallows.append(fowlkes_mallows_score(breed,predict))\n",
    "    else:\n",
    "        model=model.fit(edgehist)\n",
    "        algorith.append(method)\n",
    "        silhouette.append(silhouette_score(edgehist,model.labels_))\n",
    "        fowlkesmallows.append(fowlkes_mallows_score(breed,model.labels_))"
   ]
  },
  {
   "cell_type": "code",
   "execution_count": 14,
   "id": "0e9be9d6-2c57-42a5-ac16-81052ab84ebf",
   "metadata": {},
   "outputs": [
    {
     "name": "stdout",
     "output_type": "stream",
     "text": [
      "Estimated number of clusters: 4\n"
     ]
    }
   ],
   "source": [
    "#DBSCAN \n",
    "from sklearn.cluster import DBSCAN\n",
    "model = DBSCAN(eps=0.01, min_samples=3).fit(edgehist)\n",
    "pred = model.labels_\n",
    "n_clusters_ = len(set(pred)) - (1 if -1 in pred else 0)\n",
    "print(\"Estimated number of clusters: %d\" % n_clusters_)\n",
    "algorith.append('DBSCAN')\n",
    "silhouette.append(silhouette_score(edgehist,pred))\n",
    "fowlkesmallows.append(fowlkes_mallows_score(breed,pred))"
   ]
  },
  {
   "cell_type": "markdown",
   "id": "61f2cc68-11e3-49e4-b2a0-779ac8c53806",
   "metadata": {},
   "source": [
    "## DBSCAN parameters used eps as 0.01 and min_samples as 3 in order to get 4 clusters"
   ]
  },
  {
   "cell_type": "code",
   "execution_count": 16,
   "id": "e09b4d45-cca2-42c0-b891-5cf4cbefd81d",
   "metadata": {},
   "outputs": [],
   "source": [
    "import pandas as pd\n",
    "algorithm_scores=pd.DataFrame({'method': algorith, 'fowlkes-mallows': fowlkesmallows , 'silhouette': silhouette})"
   ]
  },
  {
   "cell_type": "markdown",
   "id": "6759991d-d8c5-4192-9e12-db0d7c21fe1c",
   "metadata": {},
   "source": [
    "### best to worst based on fowlkes score"
   ]
  },
  {
   "cell_type": "code",
   "execution_count": 17,
   "id": "ce8307da-a40f-4a57-9748-c7272e46d702",
   "metadata": {},
   "outputs": [
    {
     "data": {
      "text/html": [
       "<div>\n",
       "<style scoped>\n",
       "    .dataframe tbody tr th:only-of-type {\n",
       "        vertical-align: middle;\n",
       "    }\n",
       "\n",
       "    .dataframe tbody tr th {\n",
       "        vertical-align: top;\n",
       "    }\n",
       "\n",
       "    .dataframe thead th {\n",
       "        text-align: right;\n",
       "    }\n",
       "</style>\n",
       "<table border=\"1\" class=\"dataframe\">\n",
       "  <thead>\n",
       "    <tr style=\"text-align: right;\">\n",
       "      <th></th>\n",
       "      <th>method</th>\n",
       "      <th>fowlkes-mallows</th>\n",
       "      <th>silhouette</th>\n",
       "    </tr>\n",
       "  </thead>\n",
       "  <tbody>\n",
       "    <tr>\n",
       "      <th>4</th>\n",
       "      <td>single</td>\n",
       "      <td>0.506164</td>\n",
       "      <td>0.698595</td>\n",
       "    </tr>\n",
       "    <tr>\n",
       "      <th>6</th>\n",
       "      <td>average</td>\n",
       "      <td>0.505364</td>\n",
       "      <td>0.504076</td>\n",
       "    </tr>\n",
       "    <tr>\n",
       "      <th>8</th>\n",
       "      <td>DBSCAN</td>\n",
       "      <td>0.497707</td>\n",
       "      <td>0.262266</td>\n",
       "    </tr>\n",
       "    <tr>\n",
       "      <th>5</th>\n",
       "      <td>complete</td>\n",
       "      <td>0.356079</td>\n",
       "      <td>0.437289</td>\n",
       "    </tr>\n",
       "    <tr>\n",
       "      <th>3</th>\n",
       "      <td>SpectralClustering</td>\n",
       "      <td>0.346667</td>\n",
       "      <td>0.001596</td>\n",
       "    </tr>\n",
       "    <tr>\n",
       "      <th>0</th>\n",
       "      <td>Random</td>\n",
       "      <td>0.310303</td>\n",
       "      <td>0.433507</td>\n",
       "    </tr>\n",
       "    <tr>\n",
       "      <th>1</th>\n",
       "      <td>KMeans++</td>\n",
       "      <td>0.310303</td>\n",
       "      <td>0.433507</td>\n",
       "    </tr>\n",
       "    <tr>\n",
       "      <th>2</th>\n",
       "      <td>BisectingKmeans</td>\n",
       "      <td>0.305513</td>\n",
       "      <td>0.396617</td>\n",
       "    </tr>\n",
       "    <tr>\n",
       "      <th>7</th>\n",
       "      <td>ward</td>\n",
       "      <td>0.299091</td>\n",
       "      <td>0.414192</td>\n",
       "    </tr>\n",
       "  </tbody>\n",
       "</table>\n",
       "</div>"
      ],
      "text/plain": [
       "               method  fowlkes-mallows  silhouette\n",
       "4              single         0.506164    0.698595\n",
       "6             average         0.505364    0.504076\n",
       "8              DBSCAN         0.497707    0.262266\n",
       "5            complete         0.356079    0.437289\n",
       "3  SpectralClustering         0.346667    0.001596\n",
       "0              Random         0.310303    0.433507\n",
       "1            KMeans++         0.310303    0.433507\n",
       "2     BisectingKmeans         0.305513    0.396617\n",
       "7                ward         0.299091    0.414192"
      ]
     },
     "execution_count": 17,
     "metadata": {},
     "output_type": "execute_result"
    }
   ],
   "source": [
    "algorithm_scores.sort_values('fowlkes-mallows',ascending=False)"
   ]
  },
  {
   "cell_type": "markdown",
   "id": "25e8e128-6b5a-4b90-aaad-44c44c87e7f4",
   "metadata": {},
   "source": [
    "### best to worst silhouette score"
   ]
  },
  {
   "cell_type": "code",
   "execution_count": 18,
   "id": "542c9d60-51f9-4e80-93b0-31ff40a14ec7",
   "metadata": {},
   "outputs": [
    {
     "data": {
      "text/html": [
       "<div>\n",
       "<style scoped>\n",
       "    .dataframe tbody tr th:only-of-type {\n",
       "        vertical-align: middle;\n",
       "    }\n",
       "\n",
       "    .dataframe tbody tr th {\n",
       "        vertical-align: top;\n",
       "    }\n",
       "\n",
       "    .dataframe thead th {\n",
       "        text-align: right;\n",
       "    }\n",
       "</style>\n",
       "<table border=\"1\" class=\"dataframe\">\n",
       "  <thead>\n",
       "    <tr style=\"text-align: right;\">\n",
       "      <th></th>\n",
       "      <th>method</th>\n",
       "      <th>fowlkes-mallows</th>\n",
       "      <th>silhouette</th>\n",
       "    </tr>\n",
       "  </thead>\n",
       "  <tbody>\n",
       "    <tr>\n",
       "      <th>4</th>\n",
       "      <td>single</td>\n",
       "      <td>0.506164</td>\n",
       "      <td>0.698595</td>\n",
       "    </tr>\n",
       "    <tr>\n",
       "      <th>6</th>\n",
       "      <td>average</td>\n",
       "      <td>0.505364</td>\n",
       "      <td>0.504076</td>\n",
       "    </tr>\n",
       "    <tr>\n",
       "      <th>5</th>\n",
       "      <td>complete</td>\n",
       "      <td>0.356079</td>\n",
       "      <td>0.437289</td>\n",
       "    </tr>\n",
       "    <tr>\n",
       "      <th>0</th>\n",
       "      <td>Random</td>\n",
       "      <td>0.310303</td>\n",
       "      <td>0.433507</td>\n",
       "    </tr>\n",
       "    <tr>\n",
       "      <th>1</th>\n",
       "      <td>KMeans++</td>\n",
       "      <td>0.310303</td>\n",
       "      <td>0.433507</td>\n",
       "    </tr>\n",
       "    <tr>\n",
       "      <th>7</th>\n",
       "      <td>ward</td>\n",
       "      <td>0.299091</td>\n",
       "      <td>0.414192</td>\n",
       "    </tr>\n",
       "    <tr>\n",
       "      <th>2</th>\n",
       "      <td>BisectingKmeans</td>\n",
       "      <td>0.305513</td>\n",
       "      <td>0.396617</td>\n",
       "    </tr>\n",
       "    <tr>\n",
       "      <th>8</th>\n",
       "      <td>DBSCAN</td>\n",
       "      <td>0.497707</td>\n",
       "      <td>0.262266</td>\n",
       "    </tr>\n",
       "    <tr>\n",
       "      <th>3</th>\n",
       "      <td>SpectralClustering</td>\n",
       "      <td>0.346667</td>\n",
       "      <td>0.001596</td>\n",
       "    </tr>\n",
       "  </tbody>\n",
       "</table>\n",
       "</div>"
      ],
      "text/plain": [
       "               method  fowlkes-mallows  silhouette\n",
       "4              single         0.506164    0.698595\n",
       "6             average         0.505364    0.504076\n",
       "5            complete         0.356079    0.437289\n",
       "0              Random         0.310303    0.433507\n",
       "1            KMeans++         0.310303    0.433507\n",
       "7                ward         0.299091    0.414192\n",
       "2     BisectingKmeans         0.305513    0.396617\n",
       "8              DBSCAN         0.497707    0.262266\n",
       "3  SpectralClustering         0.346667    0.001596"
      ]
     },
     "execution_count": 18,
     "metadata": {},
     "output_type": "execute_result"
    }
   ],
   "source": [
    "algorithm_scores.sort_values('silhouette',ascending=False)\n"
   ]
  },
  {
   "cell_type": "code",
   "execution_count": null,
   "id": "8eac079b-23e9-41af-a3e9-a28621f43f12",
   "metadata": {},
   "outputs": [],
   "source": [
    "### https://scikit-learn.org/stable/modules/clustering.html"
   ]
  }
 ],
 "metadata": {
  "kernelspec": {
   "display_name": "Python 3 (ipykernel)",
   "language": "python",
   "name": "python3"
  },
  "language_info": {
   "codemirror_mode": {
    "name": "ipython",
    "version": 3
   },
   "file_extension": ".py",
   "mimetype": "text/x-python",
   "name": "python",
   "nbconvert_exporter": "python",
   "pygments_lexer": "ipython3",
   "version": "3.11.0"
  }
 },
 "nbformat": 4,
 "nbformat_minor": 5
}
